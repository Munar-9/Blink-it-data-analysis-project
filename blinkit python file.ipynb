{
 "cells": [
  {
   "cell_type": "code",
   "execution_count": null,
   "id": "44747f0e-c4cc-496e-8cb5-c732347f23e9",
   "metadata": {},
   "outputs": [],
   "source": [
    "import pandas as pd\n",
    "import matplotlib.pyplot as plt\n",
    "import seaborn as sns\n",
    "import numpy as np\n",
    "sns.set(style='whitegrid')\n",
    "from sklearn.cluster import KMeans\n",
    "from sklearn.preprocessing import StandardScaler"
   ]
  },
  {
   "cell_type": "code",
   "execution_count": null,
   "id": "27fda820-3729-4dc6-9999-1751046af205",
   "metadata": {},
   "outputs": [],
   "source": [
    "import os\n",
    "import pandas as pd\n",
    "\n",
    "# Set folder path where all Blinkit CSV files are stored\n",
    "folder_path = r\"D:/PythonFiles/project/blinkit\"\n",
    "\n",
    "# Dictionary to store all dataframes\n",
    "dataframes = {}\n",
    "\n",
    "# Manually define all expected file names (remove .csv to use as keys)\n",
    "csv_files = [\n",
    "    \"blinkit_customer_feedback\",\n",
    "    \"blinkit_customers\",\n",
    "    \"blinkit_delivery_performance\",\n",
    "    \"blinkit_inventory\",\n",
    "    \"blinkit_inventoryNew\",\n",
    "    \"blinkit_marketing_performance\",\n",
    "    \"blinkit_order_items\",\n",
    "    \"blinkit_orders\",\n",
    "    \"blinkit_products\",\n",
    "    \"blinkit_customer_feedback - Copy\"\n",
    "]\n",
    "\n",
    "# Load each file into the dictionary\n",
    "for file_name in csv_files:\n",
    "    full_path = os.path.join(folder_path, file_name + \".csv\")\n",
    "    try:\n",
    "        dataframes[file_name] = pd.read_csv(full_path)\n",
    "        print(f\"✅ Loaded: {file_name} ({dataframes[file_name].shape[0]} rows, {dataframes[file_name].shape[1]} columns)\")\n",
    "    except Exception as e:\n",
    "        print(f\"❌ Failed to load {file_name}: {e}\")"
   ]
  },
  {
   "cell_type": "code",
   "execution_count": null,
   "id": "eda8e449-6895-4af4-9507-3ff3f1bc9183",
   "metadata": {},
   "outputs": [],
   "source": [
    "# ✅ Assign individual DataFrames to variables\n",
    "orders = dataframes['blinkit_orders']\n",
    "delivery = dataframes['blinkit_delivery_performance']\n",
    "customers = dataframes['blinkit_customers']"
   ]
  },
  {
   "cell_type": "code",
   "execution_count": null,
   "id": "7c52d7ad-580a-4b91-89ac-4e1c9dcf1e18",
   "metadata": {},
   "outputs": [],
   "source": [
    "# ✅ Step 2: Convert Dates\n",
    "orders['order_date'] = pd.to_datetime(orders['order_date'])\n",
    "delivery['promised_time'] = pd.to_datetime(delivery['promised_time'])\n",
    "delivery['actual_time'] = pd.to_datetime(delivery['actual_time'])"
   ]
  },
  {
   "cell_type": "code",
   "execution_count": null,
   "id": "b8ae4f49-7df2-4424-845e-4a0ecd0a8a61",
   "metadata": {},
   "outputs": [],
   "source": [
    "merged = pd.merge(orders, delivery, on='order_id', how='inner')\n",
    "full_data = pd.merge(merged, customers, on='customer_id', how='left')"
   ]
  },
  {
   "cell_type": "code",
   "execution_count": null,
   "id": "0993d346-ec7a-46b9-9c94-f8f2d0b11abe",
   "metadata": {},
   "outputs": [],
   "source": [
    "print(\"Order Total Description:\")\n",
    "print(orders['order_total'].describe())\n",
    "\n",
    "print(\"\\nDelivery Time (Minutes) Description:\")\n",
    "print(full_data['delivery_time_minutes'].describe())\n",
    "\n",
    "print(\"\\nCustomer Segment Distribution:\")\n",
    "print(customers['customer_segment'].value_counts())"
   ]
  },
  {
   "cell_type": "code",
   "execution_count": null,
   "id": "a99dc68d-b43a-4704-92d0-015a1fa52956",
   "metadata": {},
   "outputs": [],
   "source": [
    "orders = pd.read_csv(\"D:/PythonFiles/blinkit/blinkit_orders.csv\")\n",
    "orders.head()"
   ]
  },
  {
   "cell_type": "code",
   "execution_count": null,
   "id": "6426cab4-b21c-4516-9254-68bb13ed7691",
   "metadata": {},
   "outputs": [],
   "source": [
    "orders.info()"
   ]
  },
  {
   "cell_type": "code",
   "execution_count": null,
   "id": "063a88cb-8696-4464-8ff2-00c02ad442f4",
   "metadata": {},
   "outputs": [],
   "source": [
    "orders.describe()"
   ]
  },
  {
   "cell_type": "code",
   "execution_count": null,
   "id": "769c2de0-a390-49fa-9592-25cc83607e5d",
   "metadata": {},
   "outputs": [],
   "source": [
    "orders.isnull().sum()"
   ]
  },
  {
   "cell_type": "code",
   "execution_count": null,
   "id": "48060a05-f89c-437e-b383-df7109a09747",
   "metadata": {},
   "outputs": [],
   "source": [
    "plt.figure(figsize=(8, 5))\n",
    "sns.histplot(orders['order_total'], kde=True, color='g', bins=30)\n",
    "plt.title(\"Distribution of Order Values\")\n",
    "plt.xlabel(\"Order Total (₹)\")\n",
    "plt.ylabel(\"Frequency\")\n",
    "plt.tight_layout()\n",
    "plt.show()"
   ]
  },
  {
   "cell_type": "code",
   "execution_count": null,
   "id": "593472aa-bd45-45b8-bb40-22c28e03da12",
   "metadata": {},
   "outputs": [],
   "source": [
    "#  Step 6: Visualization – Customer Segment Count\n",
    "plt.figure(figsize=(6, 4))\n",
    "sns.countplot(data=customers, x=\"customer_segment\", palette=\"viridis\")\n",
    "plt.title(\"Customer Segment Distribution\")\n",
    "plt.xlabel(\"Segment\")\n",
    "plt.ylabel(\"Number of Customers\")\n",
    "plt.tight_layout()\n",
    "plt.show()"
   ]
  },
  {
   "cell_type": "code",
   "execution_count": null,
   "id": "d018e9de-d1ca-4838-8ac6-17b4028664f3",
   "metadata": {},
   "outputs": [],
   "source": [
    "orders['order_date'] = pd.to_datetime(orders['order_date'])"
   ]
  },
  {
   "cell_type": "code",
   "execution_count": null,
   "id": "543c388a-eb7c-41da-ac5c-fa6158001219",
   "metadata": {},
   "outputs": [],
   "source": [
    "# Monthly revenue\n",
    "monthly_revenue = orders.resample('M', on='order_date')['order_total'].sum()\n",
    "\n",
    "plt.figure(figsize=(10, 5))\n",
    "monthly_revenue.plot()\n",
    "plt.title(\"Monthly Revenue\")\n",
    "plt.ylabel(\"Revenue (₹)\")\n",
    "plt.xlabel(\"Month\")\n",
    "plt.grid(True)\n",
    "plt.tight_layout()\n",
    "plt.show()"
   ]
  },
  {
   "cell_type": "code",
   "execution_count": null,
   "id": "c6300923-ee6c-4305-b17e-85ca55f1cd70",
   "metadata": {},
   "outputs": [],
   "source": [
    "# Load Feedback Data\n",
    "import pandas as pd\n",
    "from wordcloud import WordCloud\n",
    "import matplotlib.pyplot as plt\n",
    "\n",
    "feedback = pd.read_csv(\"D:/PythonFiles/blinkit/blinkit_customer_feedback.csv\")\n",
    "\n",
    "# Remove nulls and join all feedback\n",
    "text = ' '.join(feedback['feedback_text'].dropna().astype(str))\n",
    "\n",
    "# Generate WordCloud\n",
    "wordcloud = WordCloud(width=800, height=400, background_color='white').generate(text)\n",
    "\n",
    "plt.figure(figsize=(10, 5))\n",
    "plt.imshow(wordcloud, interpolation='bilinear')\n",
    "plt.axis('off')\n",
    "plt.title('Common Words in Customer Feedback')\n",
    "plt.tight_layout()\n",
    "plt.show()"
   ]
  },
  {
   "cell_type": "code",
   "execution_count": null,
   "id": "e0013e0c-0b99-450c-b942-051625222cd6",
   "metadata": {},
   "outputs": [],
   "source": [
    "# Merge feedback and orders\n",
    "merged = pd.merge(feedback, orders, on='order_id', how='left')\n",
    "\n",
    "# Merge delivery info\n",
    "merged = pd.merge(merged, delivery[['order_id', 'promised_time', 'actual_time']], on='order_id', how='left')\n",
    "\n",
    "# Convert to datetime\n",
    "merged['promised_time'] = pd.to_datetime(merged['promised_time'])\n",
    "merged['actual_time'] = pd.to_datetime(merged['actual_time'])\n",
    "\n",
    "# Calculate delivery time in minutes\n",
    "merged['delivery_time_minutes'] = (merged['actual_time'] - merged['promised_time']).dt.total_seconds() / 60"
   ]
  },
  {
   "cell_type": "code",
   "execution_count": null,
   "id": "923ed5b6-6423-456c-8bb0-029966e9f2d6",
   "metadata": {},
   "outputs": [],
   "source": [
    "sentiment_analysis = merged.groupby('sentiment').agg({\n",
    "    'order_total': 'mean',\n",
    "    'delivery_time_minutes': 'mean'\n",
    "}).reset_index()"
   ]
  },
  {
   "cell_type": "code",
   "execution_count": null,
   "id": "b3d5d2ea-3f73-4cb1-b919-7d89a658b484",
   "metadata": {},
   "outputs": [],
   "source": [
    "import seaborn as sns\n",
    "import matplotlib.pyplot as plt\n",
    "\n",
    "# Set better & darker color palette\n",
    "colors = ['#2c7bb6', '#abd9e9', '#d7191c']  # Dark Blue, Light Blue, Red\n",
    "\n",
    "plt.figure(figsize=(6, 4))\n",
    "barplot = sns.barplot(data=sentiment_analysis, x='sentiment', y='order_total', palette=colors)\n",
    "\n",
    "# Add value labels on top of each bar\n",
    "for index, row in sentiment_analysis.iterrows():\n",
    "    barplot.text(index, row.order_total + 50, f\"{row.order_total:.0f}\", color='black', ha=\"center\", fontweight='bold',size =9)\n",
    "\n",
    "plt.title(\"Average Order Value by Sentiment\", fontsize=12)\n",
    "plt.ylabel(\"Avg Order Total (₹)\", fontsize=12)\n",
    "plt.xlabel(\"Feedback Sentiment\", fontsize=12)\n",
    "plt.tight_layout()\n",
    "plt.show()"
   ]
  },
  {
   "cell_type": "code",
   "execution_count": null,
   "id": "972ab8a5-f4b6-4577-a413-de0903a147ff",
   "metadata": {},
   "outputs": [],
   "source": [
    "plt.figure(figsize=(8, 4))\n",
    "sns.barplot(data=sentiment_analysis, x='sentiment', y='delivery_time_minutes', palette='coolwarm')\n",
    "plt.title(\"Average Delivery Delay by Sentiment\")\n",
    "plt.ylabel(\"Avg Delivery Time (minutes)\")\n",
    "plt.xlabel(\"Feedback Sentiment\")\n",
    "plt.tight_layout()\n",
    "plt.show()"
   ]
  },
  {
   "cell_type": "code",
   "execution_count": null,
   "id": "c6e63dcd-1a44-4cce-a8d5-4da930ffdce0",
   "metadata": {},
   "outputs": [],
   "source": [
    "import matplotlib.pyplot as plt\n",
    "import seaborn as sns\n",
    "\n",
    "# Custom dark color palette (Positive = Green, Neutral = Black, Negative = Red)\n",
    "custom_colors = {\n",
    "    'Positive': '#008000',   # Dark Green\n",
    "    'Neutral': '#333333',    # Dark Grey (Black-ish)\n",
    "    'Negative': '#880808'    # Firebrick Red\n",
    "}\n",
    "\n",
    "# Map sentiment to color\n",
    "palette = [custom_colors[sentiment] for sentiment in sentiment_analysis['sentiment']]\n",
    "\n",
    "plt.figure(figsize=(8, 5))\n",
    "barplot = sns.barplot(\n",
    "    data=sentiment_analysis,\n",
    "    x='sentiment',\n",
    "    y='delivery_time_minutes',\n",
    "    palette=palette\n",
    ")\n",
    "\n",
    "plt.title(\"Average Delivery Delay by Sentiment\", fontsize=14)\n",
    "plt.ylabel(\"Avg Delivery Time (minutes)\", fontsize=12)\n",
    "plt.xlabel(\"Feedback Sentiment\", fontsize=12)\n",
    "plt.tight_layout()\n",
    "plt.show()"
   ]
  },
  {
   "cell_type": "code",
   "execution_count": null,
   "id": "9beaa1a9-044f-47b5-806b-13e972422347",
   "metadata": {},
   "outputs": [],
   "source": [
    "# Make a copy of delivery data\n",
    "model_data = delivery[['delivery_time_minutes', 'distance_km', 'promised_time', 'delivery_partner_id']].copy()\n",
    "\n",
    "# Drop nulls\n",
    "model_data.dropna(inplace=True)\n",
    "\n",
    "# Extract hour and weekday from promised_time\n",
    "model_data['promised_hour'] = pd.to_datetime(model_data['promised_time']).dt.hour\n",
    "model_data['promised_weekday'] = pd.to_datetime(model_data['promised_time']).dt.weekday"
   ]
  },
  {
   "cell_type": "code",
   "execution_count": null,
   "id": "f831043d-de95-4459-8042-5a3423d65eba",
   "metadata": {},
   "outputs": [],
   "source": [
    "# Convert delivery_partner_id to categorical code\n",
    "model_data['delivery_partner_id'] = model_data['delivery_partner_id'].astype('category').cat.codes"
   ]
  },
  {
   "cell_type": "code",
   "execution_count": null,
   "id": "da4411a9-0755-47f1-a518-50d7bf1ddbce",
   "metadata": {},
   "outputs": [],
   "source": [
    "from sklearn.model_selection import train_test_split\n",
    "\n",
    "X = model_data[['distance_km', 'promised_hour', 'promised_weekday', 'delivery_partner_id']]  # features\n",
    "y = model_data['delivery_time_minutes']  # target\n",
    "\n",
    "X_train, X_test, y_train, y_test = train_test_split(X, y, test_size=0.2, random_state=42)"
   ]
  },
  {
   "cell_type": "code",
   "execution_count": null,
   "id": "3bbee42f-0187-4207-89af-b3f40d35d874",
   "metadata": {},
   "outputs": [],
   "source": [
    "from sklearn.linear_model import LinearRegression\n",
    "from sklearn.metrics import mean_squared_error, r2_score\n",
    "\n",
    "model = LinearRegression()\n",
    "model.fit(X_train, y_train)\n",
    "\n",
    "# Predictions\n",
    "y_pred = model.predict(X_test)"
   ]
  },
  {
   "cell_type": "code",
   "execution_count": null,
   "id": "a7934d5c-551d-4dd4-941e-5531be1dc342",
   "metadata": {},
   "outputs": [],
   "source": [
    "print(\"X_train shape:\", X_train.shape)\n",
    "print(\"y_train shape:\", y_train.shape)"
   ]
  },
  {
   "cell_type": "code",
   "execution_count": null,
   "id": "a5388a83-c7b6-4b7a-9ea1-75643658d244",
   "metadata": {},
   "outputs": [],
   "source": [
    "mse = mean_squared_error(y_test, y_pred)\n",
    "r2 = r2_score(y_test, y_pred)\n",
    "\n",
    "print(\"📉 Mean Squared Error:\", round(mse, 2))\n",
    "print(\"📈 R² Score:\", round(r2, 2))"
   ]
  },
  {
   "cell_type": "code",
   "execution_count": null,
   "id": "aa975bca-5404-49f9-9094-a868866e18d8",
   "metadata": {},
   "outputs": [],
   "source": [
    "plt.figure(figsize=(10, 8))\n",
    "sns.scatterplot(x=y_test, y=y_pred, alpha=0.6, color='green')\n",
    "plt.xlabel(\"Actual Delivery Time\")\n",
    "plt.ylabel(\"Predicted Delivery Time\")\n",
    "plt.title(\"Actual vs Predicted Delivery Time\")\n",
    "plt.tight_layout()\n",
    "plt.show()"
   ]
  },
  {
   "cell_type": "code",
   "execution_count": null,
   "id": "399145e9-27be-4a57-a8c2-dbcc1c75f3ca",
   "metadata": {},
   "outputs": [],
   "source": [
    "coef_df = pd.DataFrame({'Feature': X.columns, 'Coefficient': model.coef_})\n",
    "print(coef_df)"
   ]
  },
  {
   "cell_type": "code",
   "execution_count": null,
   "id": "c97610d2-8fa3-4e26-ae31-aed667cddd93",
   "metadata": {},
   "outputs": [],
   "source": [
    "from sklearn.metrics import mean_squared_error, r2_score\n",
    "\n",
    "# Predict on test set\n",
    "y_pred = model.predict(X_test)\n",
    "\n",
    "# Accuracy metrics\n",
    "mse = mean_squared_error(y_test, y_pred)\n",
    "r2 = r2_score(y_test, y_pred)\n",
    "\n",
    "print(\"📉 Mean Squared Error (MSE):\", round(mse, 2))\n",
    "print(\"📈 R² Score:\", round(r2, 2))"
   ]
  },
  {
   "cell_type": "code",
   "execution_count": null,
   "id": "bb92e74e-22af-427e-bab9-49d0301eec34",
   "metadata": {},
   "outputs": [],
   "source": [
    "# Re-create model_data (same as you did earlier)\n",
    "model_data = delivery[['delivery_time_minutes', 'distance_km', 'promised_time', 'delivery_partner_id']].copy()\n",
    "\n",
    "# Drop nulls\n",
    "model_data.dropna(inplace=True)\n",
    "\n",
    "# Extract hour and weekday from promised_time\n",
    "model_data['promised_time'] = pd.to_datetime(model_data['promised_time'])\n",
    "model_data['promised_hour'] = model_data['promised_time'].dt.hour\n",
    "model_data['promised_weekday'] = model_data['promised_time'].dt.weekday\n",
    "\n",
    "# Convert delivery_partner_id to category codes\n",
    "model_data['delivery_partner_id'] = model_data['delivery_partner_id'].astype('category').cat.codes"
   ]
  },
  {
   "cell_type": "code",
   "execution_count": null,
   "id": "b73ae622-4225-431c-bec3-bf3980f9b382",
   "metadata": {},
   "outputs": [],
   "source": [
    "from sklearn.ensemble import RandomForestRegressor\n",
    "from sklearn.model_selection import train_test_split\n",
    "from sklearn.metrics import mean_squared_error, r2_score\n",
    "\n",
    "# ✅ Step 1: Prepare Data (already done by you earlier)\n",
    "X = model_data[['distance_km', 'promised_hour', 'promised_weekday', 'delivery_partner_id']]\n",
    "y = model_data['delivery_time_minutes']\n",
    "\n",
    "# ✅ Step 2: Train/Test Split\n",
    "X_train, X_test, y_train, y_test = train_test_split(X, y, test_size=0.2, random_state=42)\n",
    "\n",
    "# ✅ Step 3: Train Random Forest\n",
    "rf_model = RandomForestRegressor(n_estimators=100, random_state=42)\n",
    "rf_model.fit(X_train, y_train)\n",
    "\n",
    "# ✅ Step 4: Make Predictions\n",
    "y_pred_rf = rf_model.predict(X_test)\n",
    "\n",
    "# ✅ Step 5: Evaluate Model\n",
    "mse_rf = mean_squared_error(y_test, y_pred_rf)\n",
    "r2_rf = r2_score(y_test, y_pred_rf)\n",
    "\n",
    "print(\"🌲 Random Forest Results:\")\n",
    "print(\"📉 Mean Squared Error:\", round(mse_rf, 2))\n",
    "print(\"📈 R² Score:\", round(r2_rf, 2))"
   ]
  },
  {
   "cell_type": "code",
   "execution_count": null,
   "id": "7a4a47cf-d2e2-4237-bfef-9e4098d6daa1",
   "metadata": {},
   "outputs": [],
   "source": [
    "# Show coefficients of each feature\n",
    "import pandas as pd\n",
    "\n",
    "coef_df = pd.DataFrame({\n",
    "    'Feature': X.columns,\n",
    "    'Coefficient': model.coef_\n",
    "}).sort_values(by='Coefficient', key=abs, ascending=False)\n",
    "\n",
    "coef_df"
   ]
  },
  {
   "cell_type": "code",
   "execution_count": null,
   "id": "c668a9f4-53ea-4ae2-bef4-23eb793d44b8",
   "metadata": {},
   "outputs": [],
   "source": [
    "import matplotlib.pyplot as plt\n",
    "import seaborn as sns\n",
    "\n",
    "plt.figure(figsize=(8,5))\n",
    "sns.barplot(data=coef_df, x='Coefficient', y='Feature', palette='Greens')\n",
    "plt.title(\"Impact of Features on Delivery Time (Linear Regression)\")\n",
    "plt.xlabel(\"Coefficient Value\")\n",
    "plt.ylabel(\"Feature\")\n",
    "plt.tight_layout()\n",
    "plt.show()"
   ]
  },
  {
   "cell_type": "code",
   "execution_count": null,
   "id": "0561dbd7-4b3a-4296-9154-faaa9623cdda",
   "metadata": {},
   "outputs": [],
   "source": [
    "customers = pd.read_csv(\"D:/PythonFiles/blinkit/blinkit_customers.csv\")\n",
    "customers.head()"
   ]
  },
  {
   "cell_type": "code",
   "execution_count": null,
   "id": "20705236-d5fc-47b7-9ff1-0f6834eaff65",
   "metadata": {},
   "outputs": [],
   "source": [
    "clustering_data = customers[['total_orders', 'avg_order_value']].copy()\n",
    "clustering_data.dropna(inplace=True)"
   ]
  },
  {
   "cell_type": "code",
   "execution_count": null,
   "id": "1be6e6f7-c96f-46f4-bdd1-58031d9d77dc",
   "metadata": {},
   "outputs": [],
   "source": [
    "customers.head()"
   ]
  },
  {
   "cell_type": "code",
   "execution_count": null,
   "id": "33c118ab-4fff-4fde-b95e-f7cbcb5ee201",
   "metadata": {},
   "outputs": [],
   "source": [
    "scaler = StandardScaler()\n",
    "scaled_data = scaler.fit_transform(clustering_data)"
   ]
  },
  {
   "cell_type": "code",
   "execution_count": null,
   "id": "8df77ff5-48e0-4072-9be7-d3b9eced2b3a",
   "metadata": {},
   "outputs": [],
   "source": [
    "wcss = []  # Within-cluster sum of squares\n",
    "for i in range(1, 11):\n",
    "    kmeans = KMeans(n_clusters=i, random_state=42)\n",
    "    kmeans.fit(scaled_data)\n",
    "    wcss.append(kmeans.inertia_)\n",
    "\n",
    "plt.figure(figsize=(6,4))\n",
    "plt.plot(range(1, 11), wcss, marker='o')\n",
    "plt.title('Elbow Method for Optimal K')\n",
    "plt.xlabel('Number of Clusters (k)')\n",
    "plt.ylabel('WCSS')\n",
    "plt.tight_layout()\n",
    "plt.show()"
   ]
  },
  {
   "cell_type": "code",
   "execution_count": null,
   "id": "e3538ea3-eefb-423b-8906-61c3dd1cced8",
   "metadata": {},
   "outputs": [],
   "source": [
    "kmeans = KMeans(n_clusters=4, random_state=42)\n",
    "customers['cluster'] = kmeans.fit_predict(scaled_data)"
   ]
  },
  {
   "cell_type": "code",
   "execution_count": null,
   "id": "43590bb0-e645-4b80-a95e-4b1d4ec1534a",
   "metadata": {},
   "outputs": [],
   "source": [
    "plt.figure(figsize=(8, 5))\n",
    "sns.scatterplot(data=customers, x='total_orders', y='avg_order_value', hue='cluster', palette='Set2')\n",
    "plt.title(\"Customer Segmentation Clusters\")\n",
    "plt.xlabel(\"Total Orders\")\n",
    "plt.ylabel(\"Average Order Value\")\n",
    "plt.legend(title='Cluster')\n",
    "plt.tight_layout()\n",
    "plt.show()"
   ]
  },
  {
   "cell_type": "code",
   "execution_count": null,
   "id": "69391de8-f2a7-459e-868e-c3be77fd7901",
   "metadata": {},
   "outputs": [],
   "source": [
    "customers.groupby('cluster')[['total_orders', 'avg_order_value']].mean()"
   ]
  },
  {
   "cell_type": "code",
   "execution_count": null,
   "id": "8964b045-b952-49dc-ba35-ce6b9672c95d",
   "metadata": {},
   "outputs": [],
   "source": [
    "# Step 1: Import Libraries\n",
    "import pandas as pd\n",
    "import matplotlib.pyplot as plt\n",
    "from statsmodels.tsa.statespace.sarimax import SARIMAX\n",
    "import warnings\n",
    "warnings.filterwarnings(\"ignore\")"
   ]
  },
  {
   "cell_type": "code",
   "execution_count": null,
   "id": "d235ced2-a424-49d4-adc5-c6cf68925c11",
   "metadata": {},
   "outputs": [],
   "source": [
    "plt.figure(figsize=(10, 5))\n",
    "sns.lineplot(data=monthly_sales, x=monthly_sales.index, y='order_total', marker='o')\n",
    "plt.title(\"Monthly Sales (Order Total)\")\n",
    "plt.ylabel(\"Total Revenue (₹)\")\n",
    "plt.xlabel(\"Month\")\n",
    "plt.grid(True)\n",
    "plt.tight_layout()\n",
    "plt.show()"
   ]
  },
  {
   "cell_type": "code",
   "execution_count": null,
   "id": "71ed427b-3ad1-42b6-a217-42a09323775a",
   "metadata": {},
   "outputs": [],
   "source": [
    "# Step 2: Convert order_date to datetime format (very important for time series)\n",
    "orders['order_date'] = pd.to_datetime(orders['order_date'])"
   ]
  },
  {
   "cell_type": "code",
   "execution_count": null,
   "id": "0dbd16cc-b21d-4957-a5b5-86db7d6e03c3",
   "metadata": {},
   "outputs": [],
   "source": [
    "# Step 3: Group by Month and Get Monthly Sales\n",
    "monthly_sales = orders.groupby(pd.Grouper(key='order_date', freq='M')).sum(numeric_only=True)[['order_total']]\n",
    "\n",
    "# Optional: View first few rows\n",
    "monthly_sales.head()"
   ]
  },
  {
   "cell_type": "code",
   "execution_count": null,
   "id": "6ac5098d-82d3-488a-a389-6fde78b313eb",
   "metadata": {},
   "outputs": [],
   "source": [
    "# Step 4: Plot Historical Sales\n",
    "plt.figure(figsize=(10,5))\n",
    "plt.plot(monthly_sales.index, monthly_sales['order_total'], marker='o', linestyle='-', color='blue')\n",
    "plt.title(\"📈 Monthly Sales Trend \")\n",
    "plt.xlabel(\"Month\")\n",
    "plt.ylabel(\"Total Sales (₹)\")\n",
    "plt.grid(True)\n",
    "plt.tight_layout()\n",
    "plt.show()"
   ]
  },
  {
   "cell_type": "code",
   "execution_count": null,
   "id": "d194990a-a80d-4f15-b99f-55c744bb3711",
   "metadata": {},
   "outputs": [],
   "source": [
    "# Step 5: Build SARIMAX Time Series Model\n",
    "model = SARIMAX(monthly_sales['order_total'], \n",
    "                order=(1, 2, 1), \n",
    "                seasonal_order=(1, 1, 1, 12))\n",
    "\n",
    "results = model.fit(disp=False)"
   ]
  },
  {
   "cell_type": "code",
   "execution_count": null,
   "id": "b561a667-581e-459d-af67-65d43228c9b8",
   "metadata": {},
   "outputs": [],
   "source": [
    "# Step 6: Forecast for Next 3 Months (1 Quarter)\n",
    "forecast = results.get_forecast(steps=3)\n",
    "forecast_df = forecast.conf_int()\n",
    "forecast_df['Predicted Sales'] = forecast.predicted_mean\n",
    "forecast_df.index = pd.date_range(start=monthly_sales.index[-1] + pd.DateOffset(months=1), \n",
    "                                  periods=3, freq='MS')\n",
    "\n",
    "forecast_df"
   ]
  },
  {
   "cell_type": "code",
   "execution_count": null,
   "id": "f8700d69-b2a7-461f-b77f-e30bdf19ef4c",
   "metadata": {},
   "outputs": [],
   "source": [
    "import matplotlib.dates as mdates\n",
    "\n",
    "plt.figure(figsize=(12, 6))\n",
    "\n",
    "# Plot historical sales\n",
    "plt.plot(monthly_sales.index, monthly_sales['order_total'], label='Historical Sales', color='blue', marker='o')\n",
    "\n",
    "# Plot forecast\n",
    "plt.plot(forecast_df.index, forecast_df['Predicted Sales'], label='Forecast (Next 3 Months)', color='green', marker='o', linestyle='--')\n",
    "\n",
    "# Confidence interval shaded area\n",
    "plt.fill_between(forecast_df.index,\n",
    "                 forecast_df['lower order_total'],\n",
    "                 forecast_df['upper order_total'],\n",
    "                 color='lightgreen', alpha=0.4, label='Confidence Interval')\n",
    "\n",
    "# Highlight forecast region background\n",
    "plt.axvspan(forecast_df.index[0], forecast_df.index[-1], color='gray', alpha=0.1)\n",
    "\n",
    "# Format x-axis as month/year\n",
    "plt.gca().xaxis.set_major_formatter(mdates.DateFormatter('%b-%Y'))\n",
    "plt.gca().xaxis.set_major_locator(mdates.MonthLocator(interval=1))\n",
    "\n",
    "plt.title(\"Sales Forecast vs Historical Sales\")\n",
    "plt.xlabel(\"Month\")\n",
    "plt.ylabel(\"Sales (₹)\")\n",
    "plt.legend()\n",
    "plt.grid(True)\n",
    "plt.xticks(rotation=45)\n",
    "plt.tight_layout()\n",
    "plt.show()"
   ]
  },
  {
   "cell_type": "code",
   "execution_count": null,
   "id": "a458741f-a288-480d-91cd-77f9bd15cf8a",
   "metadata": {},
   "outputs": [],
   "source": [
    "# Re-create model_data (same as you did earlier)\n",
    "model_data = delivery[['delivery_time_minutes', 'distance_km', 'promised_time', 'delivery_partner_id']].copy()\n",
    "\n",
    "# Drop nulls\n",
    "model_data.dropna(inplace=True)\n",
    "\n",
    "# Extract hour and weekday from promised_time\n",
    "model_data['promised_time'] = pd.to_datetime(model_data['promised_time'])\n",
    "model_data['promised_hour'] = model_data['promised_time'].dt.hour\n",
    "model_data['promised_weekday'] = model_data['promised_time'].dt.weekday\n",
    "\n",
    "# Convert delivery_partner_id to category codes\n",
    "model_data['delivery_partner_id'] = model_data['delivery_partner_id'].astype('category').cat.codes"
   ]
  }
 ],
 "metadata": {
  "kernelspec": {
   "display_name": "Python 3 (ipykernel)",
   "language": "python",
   "name": "python3"
  },
  "language_info": {
   "codemirror_mode": {
    "name": "ipython",
    "version": 3
   },
   "file_extension": ".py",
   "mimetype": "text/x-python",
   "name": "python",
   "nbconvert_exporter": "python",
   "pygments_lexer": "ipython3",
   "version": "3.13.3"
  }
 },
 "nbformat": 4,
 "nbformat_minor": 5
}
